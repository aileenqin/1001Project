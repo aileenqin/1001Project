{
 "cells": [
  {
   "cell_type": "code",
   "execution_count": 2,
   "metadata": {
    "collapsed": false
   },
   "outputs": [],
   "source": [
    "import pandas as pd\n",
    "import matplotlib.pyplot as plt\n",
    "import numpy as np\n",
    "%matplotlib inline\n",
    "\n",
    "projects = pd.read_csv('opendata_projects000.gz', escapechar='\\\\', names=['_projectid', '_teacher_acctid', '_schoolid', 'school_ncesid', 'school_latitude', 'school_longitude', 'school_city', 'school_state', 'school_zip', 'school_metro', 'school_district', 'school_county', 'school_charter', 'school_magnet', 'school_year_round', 'school_nlns', 'school_kipp', 'school_charter_ready_promise', 'teacher_prefix', 'teacher_teach_for_america', 'teacher_ny_teaching_fellow', 'primary_focus_subject', 'primary_focus_area' ,'secondary_focus_subject', 'secondary_focus_area', 'resource_type', 'poverty_level', 'grade_level', 'vendor_shipping_charges', 'sales_tax', 'payment_processing_charges', 'fulfillment_labor_materials', 'total_price_excluding_optional_support', 'total_price_including_optional_support', 'students_reached', 'total_donations', 'num_donors', 'eligible_double_your_impact_match', 'eligible_almost_home_match', 'funding_status', 'date_posted', 'date_completed', 'date_thank_you_packet_mailed', 'date_expiration'])"
   ]
  },
  {
   "cell_type": "code",
   "execution_count": 4,
   "metadata": {
    "collapsed": true
   },
   "outputs": [],
   "source": [
    "essays_noindex = pd.read_csv('opendata_essays000.gz', escapechar='\\\\', names=['_projectid', '_teacherid', 'title', 'short_description', 'need_statement', 'essay', 'thankyou_note', 'impact_letter'])"
   ]
  },
  {
   "cell_type": "code",
   "execution_count": 6,
   "metadata": {
    "collapsed": true
   },
   "outputs": [],
   "source": [
    "#add a feature\"length\" indicating length of essays\n",
    "essays_noindex ['length']= essays_noindex ['essay'].str.len()"
   ]
  },
  {
   "cell_type": "code",
   "execution_count": 9,
   "metadata": {
    "collapsed": false
   },
   "outputs": [],
   "source": [
    "#drop columns from esaays_noidex\n",
    "essays_drop=essays_noindex.drop(['title','short_description','need_statement','essay','thankyou_note','impact_letter'],axis=1)"
   ]
  },
  {
   "cell_type": "code",
   "execution_count": 11,
   "metadata": {
    "collapsed": true
   },
   "outputs": [],
   "source": [
    "def DropProjectsColumns(DataFrame):\n",
    "    DataFrame=DataFrame.drop(['_teacher_acctid','_schoolid','school_latitude','school_ncesid','school_latitude','school_longitude',\n",
    "              'school_city','school_zip','school_district', 'school_county','school_charter','school_magnet',\n",
    "               'school_year_round','school_nlns','school_kipp','school_charter_ready_promise','teacher_prefix',\n",
    "               'teacher_ny_teaching_fellow','primary_focus_subject','secondary_focus_subject','secondary_focus_area','vendor_shipping_charges',\n",
    "             'sales_tax','payment_processing_charges','fulfillment_labor_materials','total_price_excluding_optional_support',\n",
    "             'eligible_double_your_impact_match','eligible_almost_home_match','date_completed','date_thank_you_packet_mailed',\n",
    "           'total_donations','num_donors'], axis = 1)\n",
    "    return DataFrame\n",
    "#we did not drop \"_projectid\" column because we need it for merging with essays data."
   ]
  },
  {
   "cell_type": "code",
   "execution_count": 12,
   "metadata": {
    "collapsed": false
   },
   "outputs": [],
   "source": [
    "#drop drop columns\n",
    "projects_drop=DropProjectsColumns(projects)"
   ]
  },
  {
   "cell_type": "code",
   "execution_count": 13,
   "metadata": {
    "collapsed": true
   },
   "outputs": [],
   "source": [
    "total = pd.merge(essays_drop, projects_drop, how = 'inner', on = ['_projectid'])"
   ]
  },
  {
   "cell_type": "code",
   "execution_count": 6,
   "metadata": {
    "collapsed": true
   },
   "outputs": [],
   "source": [
    "#drop missing values\n",
    "projects_dropna=projects_drop.dropna()"
   ]
  },
  {
   "cell_type": "code",
   "execution_count": 15,
   "metadata": {
    "collapsed": true
   },
   "outputs": [],
   "source": [
    "#convert date_posted and date_expiration to DatetimeIndex type so we can calculate the duration between two dates \n",
    "from datetime import datetime\n",
    "times_post = pd.DatetimeIndex(total.date_posted)\n",
    "total['date_posted']=times_post\n",
    "times_expiration = pd.DatetimeIndex(total.date_expiration)\n",
    "total['date_expiration']=times_expiration"
   ]
  },
  {
   "cell_type": "code",
   "execution_count": 19,
   "metadata": {
    "collapsed": true
   },
   "outputs": [],
   "source": [
    "#add a \"duration\" feature indicating the time period between date posted and date expired\n",
    "total['duration']=total['date_expiration']-total['date_posted']"
   ]
  },
  {
   "cell_type": "code",
   "execution_count": 113,
   "metadata": {
    "collapsed": true
   },
   "outputs": [],
   "source": [
    "total_dropna=total.dropna()"
   ]
  },
  {
   "cell_type": "code",
   "execution_count": 114,
   "metadata": {
    "collapsed": false
   },
   "outputs": [
    {
     "data": {
      "text/html": [
       "<div>\n",
       "<table border=\"1\" class=\"dataframe\">\n",
       "  <thead>\n",
       "    <tr style=\"text-align: right;\">\n",
       "      <th></th>\n",
       "      <th>_projectid</th>\n",
       "      <th>_teacherid</th>\n",
       "      <th>length</th>\n",
       "      <th>school_state</th>\n",
       "      <th>school_metro</th>\n",
       "      <th>teacher_teach_for_america</th>\n",
       "      <th>primary_focus_area</th>\n",
       "      <th>resource_type</th>\n",
       "      <th>poverty_level</th>\n",
       "      <th>grade_level</th>\n",
       "      <th>total_price_including_optional_support</th>\n",
       "      <th>students_reached</th>\n",
       "      <th>funding_status</th>\n",
       "      <th>date_posted</th>\n",
       "      <th>date_expiration</th>\n",
       "      <th>duration</th>\n",
       "    </tr>\n",
       "  </thead>\n",
       "  <tbody>\n",
       "    <tr>\n",
       "      <th>0</th>\n",
       "      <td>0000023f507999464aa2b78875b7e5d6</td>\n",
       "      <td>5ac258059d9c4fc4db5c1a92b7204db0</td>\n",
       "      <td>2315.0</td>\n",
       "      <td>LA</td>\n",
       "      <td>urban</td>\n",
       "      <td>t</td>\n",
       "      <td>Math &amp; Science</td>\n",
       "      <td>Supplies</td>\n",
       "      <td>highest poverty</td>\n",
       "      <td>Grades 9-12</td>\n",
       "      <td>174.09</td>\n",
       "      <td>90.0</td>\n",
       "      <td>completed</td>\n",
       "      <td>2010-08-02</td>\n",
       "      <td>2010-11-28</td>\n",
       "      <td>118 days</td>\n",
       "    </tr>\n",
       "    <tr>\n",
       "      <th>1</th>\n",
       "      <td>000009891526c0ade7180f8423792063</td>\n",
       "      <td>6d5b22d39e68c656071a842732c63a0c</td>\n",
       "      <td>1285.0</td>\n",
       "      <td>UT</td>\n",
       "      <td>suburban</td>\n",
       "      <td>f</td>\n",
       "      <td>Music &amp; The Arts</td>\n",
       "      <td>Other</td>\n",
       "      <td>moderate poverty</td>\n",
       "      <td>Grades 6-8</td>\n",
       "      <td>529.68</td>\n",
       "      <td>250.0</td>\n",
       "      <td>completed</td>\n",
       "      <td>2016-05-13</td>\n",
       "      <td>2016-09-12</td>\n",
       "      <td>122 days</td>\n",
       "    </tr>\n",
       "    <tr>\n",
       "      <th>2</th>\n",
       "      <td>00000ce845c00cbf0686c992fc369df4</td>\n",
       "      <td>1083172499055a6c9f3bb3013ba7742b</td>\n",
       "      <td>1063.0</td>\n",
       "      <td>NY</td>\n",
       "      <td>urban</td>\n",
       "      <td>t</td>\n",
       "      <td>Literacy &amp; Language</td>\n",
       "      <td>Technology</td>\n",
       "      <td>highest poverty</td>\n",
       "      <td>Grades 6-8</td>\n",
       "      <td>710.07</td>\n",
       "      <td>100.0</td>\n",
       "      <td>completed</td>\n",
       "      <td>2013-02-02</td>\n",
       "      <td>2013-03-01</td>\n",
       "      <td>27 days</td>\n",
       "    </tr>\n",
       "    <tr>\n",
       "      <th>4</th>\n",
       "      <td>000036e22c5de48109e867c03181cf16</td>\n",
       "      <td>1f995665c38ad223731a6697786c1595</td>\n",
       "      <td>1595.0</td>\n",
       "      <td>AL</td>\n",
       "      <td>urban</td>\n",
       "      <td>f</td>\n",
       "      <td>Math &amp; Science</td>\n",
       "      <td>Supplies</td>\n",
       "      <td>highest poverty</td>\n",
       "      <td>Grades PreK-2</td>\n",
       "      <td>904.92</td>\n",
       "      <td>18.0</td>\n",
       "      <td>live</td>\n",
       "      <td>2016-08-03</td>\n",
       "      <td>2016-12-01</td>\n",
       "      <td>120 days</td>\n",
       "    </tr>\n",
       "    <tr>\n",
       "      <th>5</th>\n",
       "      <td>00005f52c98eeaf92b2414a352b023a4</td>\n",
       "      <td>d157730073941bdd851eac950f3154e6</td>\n",
       "      <td>1859.0</td>\n",
       "      <td>CO</td>\n",
       "      <td>urban</td>\n",
       "      <td>f</td>\n",
       "      <td>Literacy &amp; Language</td>\n",
       "      <td>Technology</td>\n",
       "      <td>high poverty</td>\n",
       "      <td>Grades 6-8</td>\n",
       "      <td>597.31</td>\n",
       "      <td>110.0</td>\n",
       "      <td>completed</td>\n",
       "      <td>2012-05-10</td>\n",
       "      <td>2012-10-07</td>\n",
       "      <td>150 days</td>\n",
       "    </tr>\n",
       "  </tbody>\n",
       "</table>\n",
       "</div>"
      ],
      "text/plain": [
       "                         _projectid                        _teacherid  length  \\\n",
       "0  0000023f507999464aa2b78875b7e5d6  5ac258059d9c4fc4db5c1a92b7204db0  2315.0   \n",
       "1  000009891526c0ade7180f8423792063  6d5b22d39e68c656071a842732c63a0c  1285.0   \n",
       "2  00000ce845c00cbf0686c992fc369df4  1083172499055a6c9f3bb3013ba7742b  1063.0   \n",
       "4  000036e22c5de48109e867c03181cf16  1f995665c38ad223731a6697786c1595  1595.0   \n",
       "5  00005f52c98eeaf92b2414a352b023a4  d157730073941bdd851eac950f3154e6  1859.0   \n",
       "\n",
       "  school_state school_metro teacher_teach_for_america   primary_focus_area  \\\n",
       "0           LA        urban                         t       Math & Science   \n",
       "1           UT     suburban                         f     Music & The Arts   \n",
       "2           NY        urban                         t  Literacy & Language   \n",
       "4           AL        urban                         f       Math & Science   \n",
       "5           CO        urban                         f  Literacy & Language   \n",
       "\n",
       "  resource_type     poverty_level    grade_level  \\\n",
       "0      Supplies   highest poverty    Grades 9-12   \n",
       "1         Other  moderate poverty     Grades 6-8   \n",
       "2    Technology   highest poverty     Grades 6-8   \n",
       "4      Supplies   highest poverty  Grades PreK-2   \n",
       "5    Technology      high poverty     Grades 6-8   \n",
       "\n",
       "   total_price_including_optional_support  students_reached funding_status  \\\n",
       "0                                  174.09              90.0      completed   \n",
       "1                                  529.68             250.0      completed   \n",
       "2                                  710.07             100.0      completed   \n",
       "4                                  904.92              18.0           live   \n",
       "5                                  597.31             110.0      completed   \n",
       "\n",
       "  date_posted date_expiration  duration  \n",
       "0  2010-08-02      2010-11-28  118 days  \n",
       "1  2016-05-13      2016-09-12  122 days  \n",
       "2  2013-02-02      2013-03-01   27 days  \n",
       "4  2016-08-03      2016-12-01  120 days  \n",
       "5  2012-05-10      2012-10-07  150 days  "
      ]
     },
     "execution_count": 114,
     "metadata": {},
     "output_type": "execute_result"
    }
   ],
   "source": [
    "total_dropna.head()"
   ]
  },
  {
   "cell_type": "code",
   "execution_count": 116,
   "metadata": {
    "collapsed": false
   },
   "outputs": [],
   "source": [
    "#delete projects that are still live\n",
    "\n",
    "total_noLive = total_dropna[total_dropna['funding_status'] != 'live']"
   ]
  },
  {
   "cell_type": "code",
   "execution_count": 117,
   "metadata": {
    "collapsed": false
   },
   "outputs": [
    {
     "name": "stderr",
     "output_type": "stream",
     "text": [
      "/Users/yiranxu/anaconda/lib/python3.5/site-packages/ipykernel/__main__.py:2: SettingWithCopyWarning: \n",
      "A value is trying to be set on a copy of a slice from a DataFrame.\n",
      "Try using .loc[row_indexer,col_indexer] = value instead\n",
      "\n",
      "See the caveats in the documentation: http://pandas.pydata.org/pandas-docs/stable/indexing.html#indexing-view-versus-copy\n",
      "  from ipykernel import kernelapp as app\n"
     ]
    }
   ],
   "source": [
    "#convert reallocated to expired\n",
    "total_noLive['funding_status'] = total_noLive['funding_status'].replace(to_replace = 'reallocated', value = 'expired')"
   ]
  },
  {
   "cell_type": "code",
   "execution_count": 118,
   "metadata": {
    "collapsed": false
   },
   "outputs": [
    {
     "data": {
      "text/html": [
       "<div>\n",
       "<table border=\"1\" class=\"dataframe\">\n",
       "  <thead>\n",
       "    <tr style=\"text-align: right;\">\n",
       "      <th></th>\n",
       "      <th>_projectid</th>\n",
       "      <th>_teacherid</th>\n",
       "      <th>length</th>\n",
       "      <th>school_state</th>\n",
       "      <th>school_metro</th>\n",
       "      <th>teacher_teach_for_america</th>\n",
       "      <th>primary_focus_area</th>\n",
       "      <th>resource_type</th>\n",
       "      <th>poverty_level</th>\n",
       "      <th>grade_level</th>\n",
       "      <th>total_price_including_optional_support</th>\n",
       "      <th>students_reached</th>\n",
       "      <th>funding_status</th>\n",
       "      <th>date_posted</th>\n",
       "      <th>date_expiration</th>\n",
       "      <th>duration</th>\n",
       "    </tr>\n",
       "  </thead>\n",
       "  <tbody>\n",
       "    <tr>\n",
       "      <th>0</th>\n",
       "      <td>0000023f507999464aa2b78875b7e5d6</td>\n",
       "      <td>5ac258059d9c4fc4db5c1a92b7204db0</td>\n",
       "      <td>2315.0</td>\n",
       "      <td>LA</td>\n",
       "      <td>urban</td>\n",
       "      <td>t</td>\n",
       "      <td>Math &amp; Science</td>\n",
       "      <td>Supplies</td>\n",
       "      <td>highest poverty</td>\n",
       "      <td>Grades 9-12</td>\n",
       "      <td>174.09</td>\n",
       "      <td>90.0</td>\n",
       "      <td>completed</td>\n",
       "      <td>2010-08-02</td>\n",
       "      <td>2010-11-28</td>\n",
       "      <td>118 days</td>\n",
       "    </tr>\n",
       "    <tr>\n",
       "      <th>1</th>\n",
       "      <td>000009891526c0ade7180f8423792063</td>\n",
       "      <td>6d5b22d39e68c656071a842732c63a0c</td>\n",
       "      <td>1285.0</td>\n",
       "      <td>UT</td>\n",
       "      <td>suburban</td>\n",
       "      <td>f</td>\n",
       "      <td>Music &amp; The Arts</td>\n",
       "      <td>Other</td>\n",
       "      <td>moderate poverty</td>\n",
       "      <td>Grades 6-8</td>\n",
       "      <td>529.68</td>\n",
       "      <td>250.0</td>\n",
       "      <td>completed</td>\n",
       "      <td>2016-05-13</td>\n",
       "      <td>2016-09-12</td>\n",
       "      <td>122 days</td>\n",
       "    </tr>\n",
       "    <tr>\n",
       "      <th>2</th>\n",
       "      <td>00000ce845c00cbf0686c992fc369df4</td>\n",
       "      <td>1083172499055a6c9f3bb3013ba7742b</td>\n",
       "      <td>1063.0</td>\n",
       "      <td>NY</td>\n",
       "      <td>urban</td>\n",
       "      <td>t</td>\n",
       "      <td>Literacy &amp; Language</td>\n",
       "      <td>Technology</td>\n",
       "      <td>highest poverty</td>\n",
       "      <td>Grades 6-8</td>\n",
       "      <td>710.07</td>\n",
       "      <td>100.0</td>\n",
       "      <td>completed</td>\n",
       "      <td>2013-02-02</td>\n",
       "      <td>2013-03-01</td>\n",
       "      <td>27 days</td>\n",
       "    </tr>\n",
       "    <tr>\n",
       "      <th>5</th>\n",
       "      <td>00005f52c98eeaf92b2414a352b023a4</td>\n",
       "      <td>d157730073941bdd851eac950f3154e6</td>\n",
       "      <td>1859.0</td>\n",
       "      <td>CO</td>\n",
       "      <td>urban</td>\n",
       "      <td>f</td>\n",
       "      <td>Literacy &amp; Language</td>\n",
       "      <td>Technology</td>\n",
       "      <td>high poverty</td>\n",
       "      <td>Grades 6-8</td>\n",
       "      <td>597.31</td>\n",
       "      <td>110.0</td>\n",
       "      <td>completed</td>\n",
       "      <td>2012-05-10</td>\n",
       "      <td>2012-10-07</td>\n",
       "      <td>150 days</td>\n",
       "    </tr>\n",
       "    <tr>\n",
       "      <th>6</th>\n",
       "      <td>0000702ee4cefdb1e7f89084e50d3c85</td>\n",
       "      <td>99750d531ec31b0e600a38e16ebd3a95</td>\n",
       "      <td>1489.0</td>\n",
       "      <td>IL</td>\n",
       "      <td>urban</td>\n",
       "      <td>f</td>\n",
       "      <td>Math &amp; Science</td>\n",
       "      <td>Technology</td>\n",
       "      <td>highest poverty</td>\n",
       "      <td>Grades 6-8</td>\n",
       "      <td>729.43</td>\n",
       "      <td>130.0</td>\n",
       "      <td>completed</td>\n",
       "      <td>2010-06-24</td>\n",
       "      <td>2010-11-21</td>\n",
       "      <td>150 days</td>\n",
       "    </tr>\n",
       "  </tbody>\n",
       "</table>\n",
       "</div>"
      ],
      "text/plain": [
       "                         _projectid                        _teacherid  length  \\\n",
       "0  0000023f507999464aa2b78875b7e5d6  5ac258059d9c4fc4db5c1a92b7204db0  2315.0   \n",
       "1  000009891526c0ade7180f8423792063  6d5b22d39e68c656071a842732c63a0c  1285.0   \n",
       "2  00000ce845c00cbf0686c992fc369df4  1083172499055a6c9f3bb3013ba7742b  1063.0   \n",
       "5  00005f52c98eeaf92b2414a352b023a4  d157730073941bdd851eac950f3154e6  1859.0   \n",
       "6  0000702ee4cefdb1e7f89084e50d3c85  99750d531ec31b0e600a38e16ebd3a95  1489.0   \n",
       "\n",
       "  school_state school_metro teacher_teach_for_america   primary_focus_area  \\\n",
       "0           LA        urban                         t       Math & Science   \n",
       "1           UT     suburban                         f     Music & The Arts   \n",
       "2           NY        urban                         t  Literacy & Language   \n",
       "5           CO        urban                         f  Literacy & Language   \n",
       "6           IL        urban                         f       Math & Science   \n",
       "\n",
       "  resource_type     poverty_level  grade_level  \\\n",
       "0      Supplies   highest poverty  Grades 9-12   \n",
       "1         Other  moderate poverty   Grades 6-8   \n",
       "2    Technology   highest poverty   Grades 6-8   \n",
       "5    Technology      high poverty   Grades 6-8   \n",
       "6    Technology   highest poverty   Grades 6-8   \n",
       "\n",
       "   total_price_including_optional_support  students_reached funding_status  \\\n",
       "0                                  174.09              90.0      completed   \n",
       "1                                  529.68             250.0      completed   \n",
       "2                                  710.07             100.0      completed   \n",
       "5                                  597.31             110.0      completed   \n",
       "6                                  729.43             130.0      completed   \n",
       "\n",
       "  date_posted date_expiration  duration  \n",
       "0  2010-08-02      2010-11-28  118 days  \n",
       "1  2016-05-13      2016-09-12  122 days  \n",
       "2  2013-02-02      2013-03-01   27 days  \n",
       "5  2012-05-10      2012-10-07  150 days  \n",
       "6  2010-06-24      2010-11-21  150 days  "
      ]
     },
     "execution_count": 118,
     "metadata": {},
     "output_type": "execute_result"
    }
   ],
   "source": [
    "total_noLive.head()"
   ]
  },
  {
   "cell_type": "code",
   "execution_count": 133,
   "metadata": {
    "collapsed": false
   },
   "outputs": [],
   "source": [
    "#convert categorical data to numeric represenation\n",
    "def convert(DataFrame):\n",
    "    for i in range(len(DataFrame.columns)): \n",
    "        if(DataFrame[DataFrame.columns[i]].dtype=='O'):\n",
    "            DataFrame[DataFrame.columns[i]]=DataFrame[DataFrame.columns[i]].astype('category')\n",
    "            length=len(DataFrame[DataFrame.columns[i]].unique())\n",
    "            DataFrame[DataFrame.columns[i]]=DataFrame[DataFrame.columns[i]].cat.rename_categories([j for j in range(length)])\n",
    "    return DataFrame"
   ]
  },
  {
   "cell_type": "code",
   "execution_count": 134,
   "metadata": {
    "collapsed": false
   },
   "outputs": [
    {
     "name": "stderr",
     "output_type": "stream",
     "text": [
      "/Users/yiranxu/anaconda/lib/python3.5/site-packages/ipykernel/__main__.py:5: SettingWithCopyWarning: \n",
      "A value is trying to be set on a copy of a slice from a DataFrame.\n",
      "Try using .loc[row_indexer,col_indexer] = value instead\n",
      "\n",
      "See the caveats in the documentation: http://pandas.pydata.org/pandas-docs/stable/indexing.html#indexing-view-versus-copy\n",
      "/Users/yiranxu/anaconda/lib/python3.5/site-packages/ipykernel/__main__.py:7: SettingWithCopyWarning: \n",
      "A value is trying to be set on a copy of a slice from a DataFrame.\n",
      "Try using .loc[row_indexer,col_indexer] = value instead\n",
      "\n",
      "See the caveats in the documentation: http://pandas.pydata.org/pandas-docs/stable/indexing.html#indexing-view-versus-copy\n"
     ]
    }
   ],
   "source": [
    "#Convert total_noLive so that we can later fit decisiontreeclassifier function from skikit learn\n",
    "#for col in p_noLive:\n",
    "    #print(p_noLive[col].unique())\n",
    "total_noLive=convert(total_noLive)"
   ]
  },
  {
   "cell_type": "code",
   "execution_count": 136,
   "metadata": {
    "collapsed": false
   },
   "outputs": [
    {
     "name": "stderr",
     "output_type": "stream",
     "text": [
      "/Users/yiranxu/anaconda/lib/python3.5/site-packages/ipykernel/__main__.py:2: SettingWithCopyWarning: \n",
      "A value is trying to be set on a copy of a slice from a DataFrame.\n",
      "Try using .loc[row_indexer,col_indexer] = value instead\n",
      "\n",
      "See the caveats in the documentation: http://pandas.pydata.org/pandas-docs/stable/indexing.html#indexing-view-versus-copy\n",
      "  from ipykernel import kernelapp as app\n"
     ]
    }
   ],
   "source": [
    "#convert \"duration\" feature from DateTimeIndex type to float\n",
    "total_noLive['duration']=pd.Series(pd.to_timedelta(total['date_expiration'].values - total['date_posted'].values).days)"
   ]
  },
  {
   "cell_type": "code",
   "execution_count": 137,
   "metadata": {
    "collapsed": false
   },
   "outputs": [],
   "source": [
    "#drop date, projectid, teacher id\n",
    "total_noLive1=total_noLive.drop(['date_expiration','date_posted','_projectid','_teacherid'],axis=1)"
   ]
  },
  {
   "cell_type": "code",
   "execution_count": 140,
   "metadata": {
    "collapsed": false
   },
   "outputs": [
    {
     "name": "stdout",
     "output_type": "stream",
     "text": [
      "[ 2315.  1285.  1063. ...,  3836.  4210.   412.]\n",
      "[18, 44, 34, 5, 14, ..., 25, 8, 28, 46, 50]\n",
      "Length: 51\n",
      "Categories (51, int64): [18, 44, 34, 5, ..., 8, 28, 46, 50]\n",
      "[2, 1, 0]\n",
      "Categories (3, int64): [2, 1, 0]\n",
      "[1, 0]\n",
      "Categories (2, int64): [1, 0]\n",
      "[4, 5, 3, 0, 6, 2, 1]\n",
      "Categories (7, int64): [4, 5, 3, 0, 6, 2, 1]\n",
      "[2, 1, 3, 0, 5, 4]\n",
      "Categories (6, int64): [2, 1, 3, 0, 5, 4]\n",
      "[1, 3, 0, 2]\n",
      "Categories (4, int64): [1, 3, 0, 2]\n",
      "[2, 1, 3, 0]\n",
      "Categories (4, int64): [2, 1, 3, 0]\n",
      "[  174.09   529.68   710.07 ...,  2259.15   770.74  3801.69]\n",
      "[   90.   250.   100. ...,  2010.   818.  1060.]\n",
      "[0, 1]\n",
      "Categories (2, int64): [0, 1]\n",
      "[  118.   122.    27. ...,  1418.  1342.  1217.]\n"
     ]
    }
   ],
   "source": [
    "total_noLive1.head()\n",
    "for col in total_noLive1:\n",
    "    print(total_noLive1[col].unique())"
   ]
  },
  {
   "cell_type": "code",
   "execution_count": 127,
   "metadata": {
    "collapsed": false
   },
   "outputs": [],
   "source": [
    "#test\n",
    "#import random\n",
    "#a = np.random.randint(0,len(p_noLive),size = 100000)\n",
    "#projects1 = projects[:30]\n",
    "#p_noLive1 = p_noLive.iloc[a,:]\n"
   ]
  },
  {
   "cell_type": "code",
   "execution_count": 71,
   "metadata": {
    "collapsed": false
   },
   "outputs": [],
   "source": [
    "import sklearn\n",
    "from sklearn.tree import DecisionTreeClassifier, export_graphviz\n",
    "from IPython.display import Image\n",
    "import pydotplus\n",
    "\n",
    "from io import StringIO\n",
    "%matplotlib inline"
   ]
  },
  {
   "cell_type": "code",
   "execution_count": 143,
   "metadata": {
    "collapsed": false
   },
   "outputs": [],
   "source": [
    "from sklearn.cross_validation import train_test_split\n",
    "\n",
    "#p_noLive_train, p_noLive_test = train_test_split(p_noLive, test_size = 0.2)\n",
    "total_noLive1_train, total_noLive1_test = train_test_split(total_noLive1, test_size = 0.2)"
   ]
  },
  {
   "cell_type": "code",
   "execution_count": 144,
   "metadata": {
    "collapsed": false
   },
   "outputs": [],
   "source": [
    "#Train decision tree model\n",
    "dt = DecisionTreeClassifier(criterion='entropy')\n",
    "predictor_var=['school_state', 'school_metro', 'teacher_teach_for_america',\n",
    "       'primary_focus_area', 'resource_type', 'poverty_level',\n",
    "       'grade_level', 'total_price_including_optional_support',\n",
    "       'students_reached','length','duration']\n",
    "tree1=dt.fit(total_noLive1_train[predictor_var],total_noLive1_train['funding_status'])"
   ]
  },
  {
   "cell_type": "code",
   "execution_count": 145,
   "metadata": {
    "collapsed": false
   },
   "outputs": [
    {
     "data": {
      "image/png": "[encoded data removed]",
      "text/plain": [
       "<matplotlib.figure.Figure at 0x1b5ba6be0>"
      ]
     },
     "metadata": {},
     "output_type": "display_data"
    }
   ],
   "source": [
    "import matplotlib.pyplot as plt\n",
    "%matplotlib inline\n",
    "importances=tree1.feature_importances_\n",
    "y_pos = np.arange(len(predictor_var))\n",
    "\n",
    "plt.barh(y_pos, importances, align='center', alpha=0.5)\n",
    "plt.yticks(y_pos, predictor_var)\n",
    "plt.xlabel('importance')\n",
    "plt.title('Feature names')\n",
    " \n",
    "plt.show() "
   ]
  },
  {
   "cell_type": "code",
   "execution_count": 146,
   "metadata": {
    "collapsed": false
   },
   "outputs": [
    {
     "data": {
      "text/plain": [
       "array([ 0.09497061,  0.01210165,  0.00436112,  0.03222507,  0.03240754,\n",
       "        0.0292883 ,  0.03607251,  0.27752225,  0.150288  ,  0.22373683,\n",
       "        0.10702612])"
      ]
     },
     "execution_count": 146,
     "metadata": {},
     "output_type": "execute_result"
    }
   ],
   "source": [
    "importances"
   ]
  },
  {
   "cell_type": "code",
   "execution_count": 147,
   "metadata": {
    "collapsed": false
   },
   "outputs": [
    {
     "data": {
      "text/plain": [
       "0.99994402038155705"
      ]
     },
     "execution_count": 147,
     "metadata": {},
     "output_type": "execute_result"
    }
   ],
   "source": [
    "#accuracy score of trainig set\n",
    "tree1.score(total_noLive1_train[predictor_var],total_noLive1_train['funding_status'])"
   ]
  },
  {
   "cell_type": "code",
   "execution_count": 148,
   "metadata": {
    "collapsed": false
   },
   "outputs": [
    {
     "data": {
      "text/plain": [
       "0.63375396833295183"
      ]
     },
     "execution_count": 148,
     "metadata": {},
     "output_type": "execute_result"
    }
   ],
   "source": [
    "#accuracy score of test set\n",
    "tree1.score(total_noLive1_test[predictor_var],total_noLive1_test['funding_status'])"
   ]
  },
  {
   "cell_type": "code",
   "execution_count": 150,
   "metadata": {
    "collapsed": false
   },
   "outputs": [
    {
     "data": {
      "text/plain": [
       "0.50729850779537089"
      ]
     },
     "execution_count": 150,
     "metadata": {},
     "output_type": "execute_result"
    }
   ],
   "source": [
    "roc_auc_score(total_noLive1_test['funding_status'], tree1.predict_proba(total_noLive1_test.drop('funding_status', 1))[:,1])"
   ]
  },
  {
   "cell_type": "code",
   "execution_count": 160,
   "metadata": {
    "collapsed": true
   },
   "outputs": [],
   "source": [
    "#find optimal split/leaves for decision tree\n",
    "min_samples_split_values = list(range(100,3000,500))  #2000,2000\n",
    "#min_samples_split_values\n",
    "min_samples_leaf_values = list(range(100,3000,500))"
   ]
  },
  {
   "cell_type": "code",
   "execution_count": 159,
   "metadata": {
    "collapsed": false
   },
   "outputs": [
    {
     "data": {
      "text/plain": [
       "[100, 600, 1100, 1600, 2100, 2600]"
      ]
     },
     "execution_count": 159,
     "metadata": {},
     "output_type": "execute_result"
    }
   ],
   "source": [
    "#to be deleted\n",
    "list(range(100,3000,500))"
   ]
  },
  {
   "cell_type": "code",
   "execution_count": 104,
   "metadata": {
    "collapsed": true
   },
   "outputs": [],
   "source": [
    "import matplotlib.pyplot as plt\n",
    "%matplotlib inline\n",
    "\n",
    "from sklearn.metrics import roc_auc_score\n",
    "# Code here\n",
    "def testTrees(X_train, y_train, X_test, y_test, split, leaf, auc):\n",
    "    clf = DecisionTreeClassifier(criterion='entropy', min_samples_leaf = leaf, min_samples_split = split)\n",
    "    clf = clf.fit(X_train, y_train)\n",
    "    if (auc==0):\n",
    "        cm = confusion_matrix(clf.predict(X_test), y_test)\n",
    "        return (cm[0][0] + cm[1][1]) / float(sum(cm))\n",
    "    else:\n",
    "        return roc_auc_score(y_test, clf.predict_proba(X_test)[:,1])"
   ]
  },
  {
   "cell_type": "code",
   "execution_count": 161,
   "metadata": {
    "collapsed": false
   },
   "outputs": [],
   "source": [
    "lab = 'funding_status'\n",
    "\n",
    "splits = min_samples_split_values\n",
    "leaves = min_samples_leaf_values\n",
    "\n",
    "#Run all of the options\n",
    "run=1\n",
    "if (run == 1):\n",
    "    #Initialize dictionary of results\n",
    "    res = dict()\n",
    "    for d in splits:\n",
    "        res[d] = list()\n",
    "\n",
    "    #Now train and get results for each option\n",
    "    for d in splits:\n",
    "        for l in leaves:\n",
    "            res[d].append(testTrees(total_noLive1_train.drop(lab, 1), total_noLive1_train[lab], total_noLive1_test.drop(lab, 1), total_noLive1_test[lab], d, l, 1))\n",
    "            "
   ]
  },
  {
   "cell_type": "code",
   "execution_count": 162,
   "metadata": {
    "collapsed": false
   },
   "outputs": [
    {
     "data": {
      "text/plain": [
       "{100: [0.68006702430152244,\n",
       "  0.68959830442853298,\n",
       "  0.68777402832877366,\n",
       "  0.68724955347135919,\n",
       "  0.68625310959192021,\n",
       "  0.68532624170006107],\n",
       " 600: [0.68794232139857558,\n",
       "  0.68959830442853298,\n",
       "  0.68777402832877366,\n",
       "  0.68724955347135919,\n",
       "  0.68625310959192021,\n",
       "  0.68532624170006107],\n",
       " 1100: [0.69069049559143592,\n",
       "  0.68959830442853298,\n",
       "  0.68777402832877366,\n",
       "  0.68724955347135919,\n",
       "  0.68625310959192021,\n",
       "  0.68532624170006107],\n",
       " 1600: [0.69125662387912057,\n",
       "  0.68974920893497615,\n",
       "  0.68777402832877366,\n",
       "  0.68724955347135919,\n",
       "  0.68625310959192021,\n",
       "  0.68532624170006107],\n",
       " 2100: [0.69116908871779081,\n",
       "  0.68950004786078534,\n",
       "  0.68777402832877366,\n",
       "  0.68724955347135919,\n",
       "  0.68625310959192021,\n",
       "  0.68532624170006107],\n",
       " 2600: [0.69060889159524885,\n",
       "  0.68916948011982049,\n",
       "  0.68778526595083644,\n",
       "  0.68724955347135919,\n",
       "  0.68625310959192021,\n",
       "  0.68532624170006107]}"
      ]
     },
     "execution_count": 162,
     "metadata": {},
     "output_type": "execute_result"
    }
   ],
   "source": [
    "res"
   ]
  },
  {
   "cell_type": "code",
   "execution_count": 163,
   "metadata": {
    "collapsed": false
   },
   "outputs": [
    {
     "data": {
      "text/plain": [
       "<matplotlib.text.Text at 0x12ac7fd30>"
      ]
     },
     "execution_count": 163,
     "metadata": {},
     "output_type": "execute_result"
    },
    {
     "data": {
      "image/png": "[encoded data removed]",
      "text/plain": [
       "<matplotlib.figure.Figure at 0x12ac8f2e8>"
      ]
     },
     "metadata": {},
     "output_type": "display_data"
    }
   ],
   "source": [
    "#Plot AUC as a measure of accuracy          \n",
    "fig = plt.figure()\n",
    "ax=fig.add_subplot(111)\n",
    "#b=np.arange(0,10) #\n",
    "b=np.arange(0,3)\n",
    "#colors=['b','g','r','c','m','y','k','pink','violet','orange']\n",
    "colors=['b','g','r']\n",
    "for l,i in zip(b,range(len(colors))):\n",
    "    plt.plot(splits,res[splits[i]], colors[l], label = 'leaves={}'.format(leaves[i]))\n",
    "#label = 'leaves={}'.format(leaves[i]  \n",
    "                 #colors[l]\n",
    "plt.legend(bbox_to_anchor=(1.25, 1),loc = 6)\n",
    "ax.set_xlabel('min_samples_split')\n",
    "ax.set_ylabel('Test Set AUC')\n",
    "plt.title('Holdout AUC by Hyperparameters')"
   ]
  },
  {
   "cell_type": "code",
   "execution_count": null,
   "metadata": {
    "collapsed": true
   },
   "outputs": [],
   "source": []
  }
 ],
 "metadata": {
  "anaconda-cloud": {},
  "kernelspec": {
   "display_name": "Python [Root]",
   "language": "python",
   "name": "Python [Root]"
  },
  "language_info": {
   "codemirror_mode": {
    "name": "ipython",
    "version": 3
   },
   "file_extension": ".py",
   "mimetype": "text/x-python",
   "name": "python",
   "nbconvert_exporter": "python",
   "pygments_lexer": "ipython3",
   "version": "3.5.2"
  }
 },
 "nbformat": 4,
 "nbformat_minor": 0
}
